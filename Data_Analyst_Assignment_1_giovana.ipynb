{
  "cells": [
    {
      "cell_type": "markdown",
      "metadata": {
        "id": "view-in-github",
        "colab_type": "text"
      },
      "source": [
        "<a href=\"https://colab.research.google.com/github/GioSak27/Ejercicios_diplomado_2024/blob/main/Data_Analyst_Assignment_1_giovana.ipynb\" target=\"_parent\"><img src=\"https://colab.research.google.com/assets/colab-badge.svg\" alt=\"Open In Colab\"/></a>"
      ]
    },
    {
      "cell_type": "markdown",
      "metadata": {
        "id": "aLnNZc0IvUn3"
      },
      "source": [
        "#Data Analyst Assignment"
      ]
    },
    {
      "cell_type": "markdown",
      "metadata": {
        "id": "G26Ao7nQvahf"
      },
      "source": [
        "## Introduction\n",
        "\n",
        "You are working with a US retail customer on a pilot deployment.  They are using technology to track their merchandise throughout their supply chain.  The flow of their supply is:\n",
        "\n",
        "*   **DC 1:**  Orders are filled and palletized.\n",
        "*   **Truck:** Pallets travel from the DC 1 to DC 2 via semi-truck.\n",
        "*   **DC 2:**  Pallets are unloaded, and additional merchandise may be added.  They are then reloaded onto a new truck.\n",
        "*   **Truck:** Pallets travel from DC 2 to the Store.\n",
        "*   **Store:** Pallets are unloaded, cases are removed, and stocked, and the empty cases are left behind the building awaiting pickup.\n",
        "\n",
        "Your job is to dig into the data and find compelling insights to show the value fo the technology and help move the contract from a pilot into a full scaled deployment.\n",
        "\n",
        "\n",
        "\n",
        "---"
      ]
    },
    {
      "cell_type": "markdown",
      "metadata": {
        "id": "QLGYgyeQwO00"
      },
      "source": [
        "## Part 0: Imports\n",
        "\n",
        "Import necessary packages and"
      ]
    },
    {
      "cell_type": "code",
      "execution_count": null,
      "metadata": {
        "id": "dOSZ-z9degpC"
      },
      "outputs": [],
      "source": [
        "# YOUR CODE HERE:"
      ]
    },
    {
      "cell_type": "code",
      "source": [
        "import pandas as pd\n",
        "import matplotlib.pyplot as plt\n",
        "import numpy as np\n",
        "import plotly.express as px\n",
        "import plotly.io as pio\n",
        "import geopandas as gpd\n",
        "import plotly.graph_objects as go\n",
        "from google.colab import drive\n",
        "drive.mount('/content/drive')\n"
      ],
      "metadata": {
        "colab": {
          "base_uri": "https://localhost:8080/"
        },
        "id": "t-tLELjpk-EN",
        "outputId": "58887e33-506d-4825-85ae-59a2a1a1bfe2"
      },
      "execution_count": 14,
      "outputs": [
        {
          "output_type": "stream",
          "name": "stdout",
          "text": [
            "Drive already mounted at /content/drive; to attempt to forcibly remount, call drive.mount(\"/content/drive\", force_remount=True).\n"
          ]
        }
      ]
    },
    {
      "cell_type": "code",
      "source": [
        "%cd /content/drive/ My \\Drive/Colab Notebooks/Archivos_excel"
      ],
      "metadata": {
        "colab": {
          "base_uri": "https://localhost:8080/"
        },
        "id": "iDoSVQEerr_W",
        "outputId": "682ec2d3-542e-4d5b-c26a-58e4a89e0570"
      },
      "execution_count": 2,
      "outputs": [
        {
          "output_type": "stream",
          "name": "stdout",
          "text": [
            "/content/drive/ My Drive/Colab Notebooks/Archivos_excel\n"
          ]
        }
      ]
    },
    {
      "cell_type": "code",
      "source": [
        "df = pd.read_excel('Assignment_1.xlsx')"
      ],
      "metadata": {
        "id": "-0Ahj-YVSOHS"
      },
      "execution_count": 3,
      "outputs": []
    },
    {
      "cell_type": "code",
      "source": [
        "df.head()"
      ],
      "metadata": {
        "colab": {
          "base_uri": "https://localhost:8080/",
          "height": 313
        },
        "id": "kxvpWt6eZDrZ",
        "outputId": "6e7d312a-b914-4c46-df3d-5d7edd7d4737"
      },
      "execution_count": 4,
      "outputs": [
        {
          "output_type": "execute_result",
          "data": {
            "text/plain": [
              "  asset_type  asset_id                           tag_id  Site            Zone  \\\n",
              "0       tote         2  (01)00850027865010(21)0082T0219  DC 1  dock_doors_DC1   \n",
              "1       tote         2  (01)00850027865010(21)0082T0219  DC 1  dock_doors_DC1   \n",
              "2       tote         2  (01)00850027865010(21)0082T0219  DC 1  dock_doors_DC1   \n",
              "3       tote         2  (01)00850027865010(21)0082T0219  DC 1  dock_doors_DC1   \n",
              "4       tote         2  (01)00850027865010(21)0082T0670  DC 1  dock_doors_DC1   \n",
              "\n",
              "      device_id                time_est       lat       lng  Temperature_C  \\\n",
              "0  7F9A8353E973 2022-08-02 11:59:26.628  47.79158 -65.68902           23.0   \n",
              "1  EC5B0499234F 2022-08-02 12:00:22.660  47.79158 -65.68902           23.0   \n",
              "2  7F9A8353E973 2022-08-02 12:01:11.234  47.79158 -65.68902           23.0   \n",
              "3  3D8B2BDB8673 2022-08-02 13:47:58.172  47.79158 -65.68902           23.5   \n",
              "4  7F9A8353E973 2022-08-02 11:58:55.049  47.79158 -65.68902           23.0   \n",
              "\n",
              "   Temperature_F  \n",
              "0           73.4  \n",
              "1           73.4  \n",
              "2           73.4  \n",
              "3           74.3  \n",
              "4           73.4  "
            ],
            "text/html": [
              "\n",
              "  <div id=\"df-3aede3d5-6fb2-46b2-a0e8-1e7fc9279e4b\" class=\"colab-df-container\">\n",
              "    <div>\n",
              "<style scoped>\n",
              "    .dataframe tbody tr th:only-of-type {\n",
              "        vertical-align: middle;\n",
              "    }\n",
              "\n",
              "    .dataframe tbody tr th {\n",
              "        vertical-align: top;\n",
              "    }\n",
              "\n",
              "    .dataframe thead th {\n",
              "        text-align: right;\n",
              "    }\n",
              "</style>\n",
              "<table border=\"1\" class=\"dataframe\">\n",
              "  <thead>\n",
              "    <tr style=\"text-align: right;\">\n",
              "      <th></th>\n",
              "      <th>asset_type</th>\n",
              "      <th>asset_id</th>\n",
              "      <th>tag_id</th>\n",
              "      <th>Site</th>\n",
              "      <th>Zone</th>\n",
              "      <th>device_id</th>\n",
              "      <th>time_est</th>\n",
              "      <th>lat</th>\n",
              "      <th>lng</th>\n",
              "      <th>Temperature_C</th>\n",
              "      <th>Temperature_F</th>\n",
              "    </tr>\n",
              "  </thead>\n",
              "  <tbody>\n",
              "    <tr>\n",
              "      <th>0</th>\n",
              "      <td>tote</td>\n",
              "      <td>2</td>\n",
              "      <td>(01)00850027865010(21)0082T0219</td>\n",
              "      <td>DC 1</td>\n",
              "      <td>dock_doors_DC1</td>\n",
              "      <td>7F9A8353E973</td>\n",
              "      <td>2022-08-02 11:59:26.628</td>\n",
              "      <td>47.79158</td>\n",
              "      <td>-65.68902</td>\n",
              "      <td>23.0</td>\n",
              "      <td>73.4</td>\n",
              "    </tr>\n",
              "    <tr>\n",
              "      <th>1</th>\n",
              "      <td>tote</td>\n",
              "      <td>2</td>\n",
              "      <td>(01)00850027865010(21)0082T0219</td>\n",
              "      <td>DC 1</td>\n",
              "      <td>dock_doors_DC1</td>\n",
              "      <td>EC5B0499234F</td>\n",
              "      <td>2022-08-02 12:00:22.660</td>\n",
              "      <td>47.79158</td>\n",
              "      <td>-65.68902</td>\n",
              "      <td>23.0</td>\n",
              "      <td>73.4</td>\n",
              "    </tr>\n",
              "    <tr>\n",
              "      <th>2</th>\n",
              "      <td>tote</td>\n",
              "      <td>2</td>\n",
              "      <td>(01)00850027865010(21)0082T0219</td>\n",
              "      <td>DC 1</td>\n",
              "      <td>dock_doors_DC1</td>\n",
              "      <td>7F9A8353E973</td>\n",
              "      <td>2022-08-02 12:01:11.234</td>\n",
              "      <td>47.79158</td>\n",
              "      <td>-65.68902</td>\n",
              "      <td>23.0</td>\n",
              "      <td>73.4</td>\n",
              "    </tr>\n",
              "    <tr>\n",
              "      <th>3</th>\n",
              "      <td>tote</td>\n",
              "      <td>2</td>\n",
              "      <td>(01)00850027865010(21)0082T0219</td>\n",
              "      <td>DC 1</td>\n",
              "      <td>dock_doors_DC1</td>\n",
              "      <td>3D8B2BDB8673</td>\n",
              "      <td>2022-08-02 13:47:58.172</td>\n",
              "      <td>47.79158</td>\n",
              "      <td>-65.68902</td>\n",
              "      <td>23.5</td>\n",
              "      <td>74.3</td>\n",
              "    </tr>\n",
              "    <tr>\n",
              "      <th>4</th>\n",
              "      <td>tote</td>\n",
              "      <td>2</td>\n",
              "      <td>(01)00850027865010(21)0082T0670</td>\n",
              "      <td>DC 1</td>\n",
              "      <td>dock_doors_DC1</td>\n",
              "      <td>7F9A8353E973</td>\n",
              "      <td>2022-08-02 11:58:55.049</td>\n",
              "      <td>47.79158</td>\n",
              "      <td>-65.68902</td>\n",
              "      <td>23.0</td>\n",
              "      <td>73.4</td>\n",
              "    </tr>\n",
              "  </tbody>\n",
              "</table>\n",
              "</div>\n",
              "    <div class=\"colab-df-buttons\">\n",
              "\n",
              "  <div class=\"colab-df-container\">\n",
              "    <button class=\"colab-df-convert\" onclick=\"convertToInteractive('df-3aede3d5-6fb2-46b2-a0e8-1e7fc9279e4b')\"\n",
              "            title=\"Convert this dataframe to an interactive table.\"\n",
              "            style=\"display:none;\">\n",
              "\n",
              "  <svg xmlns=\"http://www.w3.org/2000/svg\" height=\"24px\" viewBox=\"0 -960 960 960\">\n",
              "    <path d=\"M120-120v-720h720v720H120Zm60-500h600v-160H180v160Zm220 220h160v-160H400v160Zm0 220h160v-160H400v160ZM180-400h160v-160H180v160Zm440 0h160v-160H620v160ZM180-180h160v-160H180v160Zm440 0h160v-160H620v160Z\"/>\n",
              "  </svg>\n",
              "    </button>\n",
              "\n",
              "  <style>\n",
              "    .colab-df-container {\n",
              "      display:flex;\n",
              "      gap: 12px;\n",
              "    }\n",
              "\n",
              "    .colab-df-convert {\n",
              "      background-color: #E8F0FE;\n",
              "      border: none;\n",
              "      border-radius: 50%;\n",
              "      cursor: pointer;\n",
              "      display: none;\n",
              "      fill: #1967D2;\n",
              "      height: 32px;\n",
              "      padding: 0 0 0 0;\n",
              "      width: 32px;\n",
              "    }\n",
              "\n",
              "    .colab-df-convert:hover {\n",
              "      background-color: #E2EBFA;\n",
              "      box-shadow: 0px 1px 2px rgba(60, 64, 67, 0.3), 0px 1px 3px 1px rgba(60, 64, 67, 0.15);\n",
              "      fill: #174EA6;\n",
              "    }\n",
              "\n",
              "    .colab-df-buttons div {\n",
              "      margin-bottom: 4px;\n",
              "    }\n",
              "\n",
              "    [theme=dark] .colab-df-convert {\n",
              "      background-color: #3B4455;\n",
              "      fill: #D2E3FC;\n",
              "    }\n",
              "\n",
              "    [theme=dark] .colab-df-convert:hover {\n",
              "      background-color: #434B5C;\n",
              "      box-shadow: 0px 1px 3px 1px rgba(0, 0, 0, 0.15);\n",
              "      filter: drop-shadow(0px 1px 2px rgba(0, 0, 0, 0.3));\n",
              "      fill: #FFFFFF;\n",
              "    }\n",
              "  </style>\n",
              "\n",
              "    <script>\n",
              "      const buttonEl =\n",
              "        document.querySelector('#df-3aede3d5-6fb2-46b2-a0e8-1e7fc9279e4b button.colab-df-convert');\n",
              "      buttonEl.style.display =\n",
              "        google.colab.kernel.accessAllowed ? 'block' : 'none';\n",
              "\n",
              "      async function convertToInteractive(key) {\n",
              "        const element = document.querySelector('#df-3aede3d5-6fb2-46b2-a0e8-1e7fc9279e4b');\n",
              "        const dataTable =\n",
              "          await google.colab.kernel.invokeFunction('convertToInteractive',\n",
              "                                                    [key], {});\n",
              "        if (!dataTable) return;\n",
              "\n",
              "        const docLinkHtml = 'Like what you see? Visit the ' +\n",
              "          '<a target=\"_blank\" href=https://colab.research.google.com/notebooks/data_table.ipynb>data table notebook</a>'\n",
              "          + ' to learn more about interactive tables.';\n",
              "        element.innerHTML = '';\n",
              "        dataTable['output_type'] = 'display_data';\n",
              "        await google.colab.output.renderOutput(dataTable, element);\n",
              "        const docLink = document.createElement('div');\n",
              "        docLink.innerHTML = docLinkHtml;\n",
              "        element.appendChild(docLink);\n",
              "      }\n",
              "    </script>\n",
              "  </div>\n",
              "\n",
              "\n",
              "<div id=\"df-b4bca016-81d7-46bc-a536-76f30ac0591a\">\n",
              "  <button class=\"colab-df-quickchart\" onclick=\"quickchart('df-b4bca016-81d7-46bc-a536-76f30ac0591a')\"\n",
              "            title=\"Suggest charts\"\n",
              "            style=\"display:none;\">\n",
              "\n",
              "<svg xmlns=\"http://www.w3.org/2000/svg\" height=\"24px\"viewBox=\"0 0 24 24\"\n",
              "     width=\"24px\">\n",
              "    <g>\n",
              "        <path d=\"M19 3H5c-1.1 0-2 .9-2 2v14c0 1.1.9 2 2 2h14c1.1 0 2-.9 2-2V5c0-1.1-.9-2-2-2zM9 17H7v-7h2v7zm4 0h-2V7h2v10zm4 0h-2v-4h2v4z\"/>\n",
              "    </g>\n",
              "</svg>\n",
              "  </button>\n",
              "\n",
              "<style>\n",
              "  .colab-df-quickchart {\n",
              "      --bg-color: #E8F0FE;\n",
              "      --fill-color: #1967D2;\n",
              "      --hover-bg-color: #E2EBFA;\n",
              "      --hover-fill-color: #174EA6;\n",
              "      --disabled-fill-color: #AAA;\n",
              "      --disabled-bg-color: #DDD;\n",
              "  }\n",
              "\n",
              "  [theme=dark] .colab-df-quickchart {\n",
              "      --bg-color: #3B4455;\n",
              "      --fill-color: #D2E3FC;\n",
              "      --hover-bg-color: #434B5C;\n",
              "      --hover-fill-color: #FFFFFF;\n",
              "      --disabled-bg-color: #3B4455;\n",
              "      --disabled-fill-color: #666;\n",
              "  }\n",
              "\n",
              "  .colab-df-quickchart {\n",
              "    background-color: var(--bg-color);\n",
              "    border: none;\n",
              "    border-radius: 50%;\n",
              "    cursor: pointer;\n",
              "    display: none;\n",
              "    fill: var(--fill-color);\n",
              "    height: 32px;\n",
              "    padding: 0;\n",
              "    width: 32px;\n",
              "  }\n",
              "\n",
              "  .colab-df-quickchart:hover {\n",
              "    background-color: var(--hover-bg-color);\n",
              "    box-shadow: 0 1px 2px rgba(60, 64, 67, 0.3), 0 1px 3px 1px rgba(60, 64, 67, 0.15);\n",
              "    fill: var(--button-hover-fill-color);\n",
              "  }\n",
              "\n",
              "  .colab-df-quickchart-complete:disabled,\n",
              "  .colab-df-quickchart-complete:disabled:hover {\n",
              "    background-color: var(--disabled-bg-color);\n",
              "    fill: var(--disabled-fill-color);\n",
              "    box-shadow: none;\n",
              "  }\n",
              "\n",
              "  .colab-df-spinner {\n",
              "    border: 2px solid var(--fill-color);\n",
              "    border-color: transparent;\n",
              "    border-bottom-color: var(--fill-color);\n",
              "    animation:\n",
              "      spin 1s steps(1) infinite;\n",
              "  }\n",
              "\n",
              "  @keyframes spin {\n",
              "    0% {\n",
              "      border-color: transparent;\n",
              "      border-bottom-color: var(--fill-color);\n",
              "      border-left-color: var(--fill-color);\n",
              "    }\n",
              "    20% {\n",
              "      border-color: transparent;\n",
              "      border-left-color: var(--fill-color);\n",
              "      border-top-color: var(--fill-color);\n",
              "    }\n",
              "    30% {\n",
              "      border-color: transparent;\n",
              "      border-left-color: var(--fill-color);\n",
              "      border-top-color: var(--fill-color);\n",
              "      border-right-color: var(--fill-color);\n",
              "    }\n",
              "    40% {\n",
              "      border-color: transparent;\n",
              "      border-right-color: var(--fill-color);\n",
              "      border-top-color: var(--fill-color);\n",
              "    }\n",
              "    60% {\n",
              "      border-color: transparent;\n",
              "      border-right-color: var(--fill-color);\n",
              "    }\n",
              "    80% {\n",
              "      border-color: transparent;\n",
              "      border-right-color: var(--fill-color);\n",
              "      border-bottom-color: var(--fill-color);\n",
              "    }\n",
              "    90% {\n",
              "      border-color: transparent;\n",
              "      border-bottom-color: var(--fill-color);\n",
              "    }\n",
              "  }\n",
              "</style>\n",
              "\n",
              "  <script>\n",
              "    async function quickchart(key) {\n",
              "      const quickchartButtonEl =\n",
              "        document.querySelector('#' + key + ' button');\n",
              "      quickchartButtonEl.disabled = true;  // To prevent multiple clicks.\n",
              "      quickchartButtonEl.classList.add('colab-df-spinner');\n",
              "      try {\n",
              "        const charts = await google.colab.kernel.invokeFunction(\n",
              "            'suggestCharts', [key], {});\n",
              "      } catch (error) {\n",
              "        console.error('Error during call to suggestCharts:', error);\n",
              "      }\n",
              "      quickchartButtonEl.classList.remove('colab-df-spinner');\n",
              "      quickchartButtonEl.classList.add('colab-df-quickchart-complete');\n",
              "    }\n",
              "    (() => {\n",
              "      let quickchartButtonEl =\n",
              "        document.querySelector('#df-b4bca016-81d7-46bc-a536-76f30ac0591a button');\n",
              "      quickchartButtonEl.style.display =\n",
              "        google.colab.kernel.accessAllowed ? 'block' : 'none';\n",
              "    })();\n",
              "  </script>\n",
              "</div>\n",
              "    </div>\n",
              "  </div>\n"
            ],
            "application/vnd.google.colaboratory.intrinsic+json": {
              "type": "dataframe",
              "variable_name": "df"
            }
          },
          "metadata": {},
          "execution_count": 4
        }
      ]
    },
    {
      "cell_type": "markdown",
      "metadata": {
        "id": "ilure2qpw4lT"
      },
      "source": [
        "### Dataset Overview\n",
        "\n",
        "* Site:  A large space that could contain multiple readers. Ex: DC 1.\n",
        "* Zone:  Point of interest. These represent areas in which repeaters are installed. These can be thought of as sub-zones.  Ex: Dock Doors.\n",
        "* Asset ID: The unique ID of the asset.\n",
        "* Asset Type: The type of thing that is detected (ie tote).\n",
        "* Device ID: The unique gateway reader ID that detected the device in the zone (there can be multiple in one zone).\n",
        "* Time est: The time in EST.\n",
        "* Lon: Longituge\n",
        "* Lat: Latitude\n",
        "* Temperature_C / F: Temperature in Celsius, Fahrentheit"
      ]
    },
    {
      "cell_type": "markdown",
      "metadata": {
        "id": "0PcG1lJdwopq"
      },
      "source": [
        "## PART 1: Data Overview"
      ]
    },
    {
      "cell_type": "markdown",
      "metadata": {
        "id": "tLLUIhxZ0wvF"
      },
      "source": [
        "### Question 1:\n",
        "\n",
        "* How many unique cases were we tracking throughout this pilot. (1 pt)\n",
        "* What are the unique zones we could see (1 pt)\n",
        "* How many POI's are in each Zone. (2 pts)\n"
      ]
    },
    {
      "cell_type": "markdown",
      "source": [
        "***Para responder la primera parte necesitamos recordar el flujo del sumunistro. Entonces para saber cuantos casos únicos se están siguiendo (tranking) necesitamos generar el recuento único de la columna asset_id que es el ID único del activo en la prueba piloto.***"
      ],
      "metadata": {
        "id": "AC6MVrB6wWnF"
      }
    },
    {
      "cell_type": "markdown",
      "source": [],
      "metadata": {
        "id": "YLbGDb5iwiJP"
      }
    },
    {
      "cell_type": "code",
      "execution_count": null,
      "metadata": {
        "id": "PDMC6O4h0uqD",
        "colab": {
          "base_uri": "https://localhost:8080/"
        },
        "outputId": "b2bcb2fc-d575-4a5c-c123-22ef2d9e3d6d"
      },
      "outputs": [
        {
          "output_type": "execute_result",
          "data": {
            "text/plain": [
              "array([  2,  37,  52,  58,  59,  62,  70,  84, 102, 145, 149, 159, 167,\n",
              "       170, 181, 182, 200, 205])"
            ]
          },
          "metadata": {},
          "execution_count": 21
        }
      ],
      "source": [
        "# YOUR CODE HERE:\n",
        "df.asset_id.unique()"
      ]
    },
    {
      "cell_type": "code",
      "source": [
        "df.asset_id.nunique()"
      ],
      "metadata": {
        "colab": {
          "base_uri": "https://localhost:8080/"
        },
        "id": "m2JfPQ8r216M",
        "outputId": "16fbb1da-3ffe-41a0-97d6-9d9e8eec62f0"
      },
      "execution_count": null,
      "outputs": [
        {
          "output_type": "execute_result",
          "data": {
            "text/plain": [
              "18"
            ]
          },
          "metadata": {},
          "execution_count": 27
        }
      ]
    },
    {
      "cell_type": "markdown",
      "source": [
        "**Osea que tenemos 18 trackings únicos.**\n"
      ],
      "metadata": {
        "id": "LkEtxi4h2IYZ"
      }
    },
    {
      "cell_type": "markdown",
      "source": [
        "**Para las zonas y subzonas que podemos ver vamos a resumir la variable 'Zone' y contar cuantas son en total**"
      ],
      "metadata": {
        "id": "Uk5b-yQtsY_F"
      }
    },
    {
      "cell_type": "code",
      "source": [
        "df.Zone.unique()"
      ],
      "metadata": {
        "colab": {
          "base_uri": "https://localhost:8080/"
        },
        "id": "fY9y1p_F2bIR",
        "outputId": "4d6c9b26-ddeb-465d-aa08-44eb51bd99e9"
      },
      "execution_count": null,
      "outputs": [
        {
          "output_type": "execute_result",
          "data": {
            "text/plain": [
              "array(['dock_doors_DC1', 'dock_doors_DC2', 'Forklift3_DC1',\n",
              "       'pallet_assembly_DC1', 'PhoneKit1Bridge', 'PhoneKit2Bridge',\n",
              "       'PhoneKit2GW', 'point_of_sale_Store', 'receiving_Store',\n",
              "       'staging_DC1', 'staging_DC2', 'store_back_Store',\n",
              "       'store_front_Store', 'Forklift1_DC1', 'PhoneKit1GW'], dtype=object)"
            ]
          },
          "metadata": {},
          "execution_count": 24
        }
      ]
    },
    {
      "cell_type": "markdown",
      "source": [
        "**Contabilizando las etiquetas únicas tenemos un total de 15 zonas en donde se encuentran los rastreadores a lo largo de la cadena de suministro.**"
      ],
      "metadata": {
        "id": "C9AQfV91swix"
      }
    },
    {
      "cell_type": "code",
      "source": [
        "df.Zone.nunique()"
      ],
      "metadata": {
        "colab": {
          "base_uri": "https://localhost:8080/"
        },
        "id": "K0PaVo_l2rm_",
        "outputId": "d27d5297-0064-473a-b606-99cf1661532b"
      },
      "execution_count": null,
      "outputs": [
        {
          "output_type": "execute_result",
          "data": {
            "text/plain": [
              "15"
            ]
          },
          "metadata": {},
          "execution_count": 26
        }
      ]
    },
    {
      "cell_type": "markdown",
      "source": [
        "**Un punto de interés viene representado en la variable zona, pero también menciona que una subzona puede ser la puerta del muelle (Dock Doors), esto nos dice que basados en el flujo de la cadena de suministro, cruzar la varible 'Site' con la variable 'Zone' nos da cuantos puntos de interes hay en cada zona. Describiendo 15 puntos de interés en 4 zonas.**"
      ],
      "metadata": {
        "id": "gG51NY7l5boK"
      }
    },
    {
      "cell_type": "code",
      "source": [
        "df.groupby(['Site']).Zone.nunique()"
      ],
      "metadata": {
        "colab": {
          "base_uri": "https://localhost:8080/"
        },
        "id": "7-bA945u5oBi",
        "outputId": "d799afd5-0f44-485f-9302-cc42783aceb4"
      },
      "execution_count": 5,
      "outputs": [
        {
          "output_type": "execute_result",
          "data": {
            "text/plain": [
              "Site\n",
              "DC 1       5\n",
              "DC 2       2\n",
              "Store      4\n",
              "Transit    4\n",
              "Name: Zone, dtype: int64"
            ]
          },
          "metadata": {},
          "execution_count": 5
        }
      ]
    },
    {
      "cell_type": "markdown",
      "metadata": {
        "id": "5SaHgmjN1sfO"
      },
      "source": [
        "### Question 2:\n",
        "\n",
        "* What is the temperature range we see?  (1pt)\n",
        "* Where is temperature the highest and lowest (1pt)"
      ]
    },
    {
      "cell_type": "markdown",
      "source": [
        "**Sabemos que el rango es un intervalo en el que oscila en este caso la temperatura. Por lo tanto usamos la segunda parte para traer el mínimo y el máximo de la variable Temperature_C. Al final del cálculo muestro la distribución de la temperatura según los registros (solo mostrare la temperatura en grados Celsius)**"
      ],
      "metadata": {
        "id": "MfLKYYh3E3tj"
      }
    },
    {
      "cell_type": "markdown",
      "source": [],
      "metadata": {
        "id": "SxD7Kq58HgpO"
      }
    },
    {
      "cell_type": "code",
      "execution_count": null,
      "metadata": {
        "id": "Yv6mfo8K1_uD",
        "colab": {
          "base_uri": "https://localhost:8080/"
        },
        "outputId": "0500e634-89b5-43f4-b245-77268337dd1f"
      },
      "outputs": [
        {
          "output_type": "execute_result",
          "data": {
            "text/plain": [
              "19.0"
            ]
          },
          "metadata": {},
          "execution_count": 38
        }
      ],
      "source": [
        "# YOUR CODE HERE:\n",
        "df.Temperature_C.min()"
      ]
    },
    {
      "cell_type": "code",
      "source": [
        "df.Temperature_C.max()"
      ],
      "metadata": {
        "colab": {
          "base_uri": "https://localhost:8080/"
        },
        "id": "4g2mGscgGQGP",
        "outputId": "29a40d7c-c512-4346-db49-63365ac10cbd"
      },
      "execution_count": null,
      "outputs": [
        {
          "output_type": "execute_result",
          "data": {
            "text/plain": [
              "44.0"
            ]
          },
          "metadata": {},
          "execution_count": 39
        }
      ]
    },
    {
      "cell_type": "code",
      "source": [
        "range_C = {df.Temperature_C.min(),df.Temperature_C.max()}\n",
        "print(range_C)"
      ],
      "metadata": {
        "colab": {
          "base_uri": "https://localhost:8080/"
        },
        "id": "p9kD9tNuGUXz",
        "outputId": "5a4f5f3e-ccdd-4add-f279-f71443f14018"
      },
      "execution_count": null,
      "outputs": [
        {
          "output_type": "stream",
          "name": "stdout",
          "text": [
            "{19.0, 44.0}\n"
          ]
        }
      ]
    },
    {
      "cell_type": "code",
      "source": [
        "df.groupby(['Temperature_C']).Temperature_C.count()"
      ],
      "metadata": {
        "colab": {
          "base_uri": "https://localhost:8080/"
        },
        "id": "xjIjsIWEHwmY",
        "outputId": "c4a899dd-83ea-4465-f177-33245f8d9e7d"
      },
      "execution_count": null,
      "outputs": [
        {
          "output_type": "execute_result",
          "data": {
            "text/plain": [
              "Temperature_C\n",
              "19.00    1\n",
              "19.13    1\n",
              "19.20    1\n",
              "19.35    1\n",
              "19.39    1\n",
              "        ..\n",
              "43.50    3\n",
              "43.55    1\n",
              "43.67    2\n",
              "43.79    1\n",
              "44.00    5\n",
              "Name: Temperature_C, Length: 972, dtype: int64"
            ]
          },
          "metadata": {},
          "execution_count": 44
        }
      ]
    },
    {
      "cell_type": "markdown",
      "metadata": {
        "id": "83ZytoZ02Oih"
      },
      "source": [
        "## Part 2: The Journey of a Case"
      ]
    },
    {
      "cell_type": "markdown",
      "metadata": {
        "id": "LT32Svy42BR8"
      },
      "source": [
        "### Question 3:\n",
        "\n",
        "* Create a visualization that shows where a case was at over time at the zone or POI level. Imagine that this would be included in your presentation to the customer. (Non techical audience) (3 pts)"
      ]
    },
    {
      "cell_type": "code",
      "execution_count": 11,
      "metadata": {
        "id": "dVuYYJMB2t_I",
        "colab": {
          "base_uri": "https://localhost:8080/",
          "height": 528
        },
        "outputId": "a02cfb64-777f-4a41-8c93-ee34e63236d8"
      },
      "outputs": [
        {
          "output_type": "display_data",
          "data": {
            "text/plain": [
              "<Figure size 1000x600 with 1 Axes>"
            ],
            "image/png": "[encoded data removed]"
          },
          "metadata": {}
        }
      ],
      "source": [
        "# YOUR CODE HERE:\n",
        "# Primero vamos a convertir el objeto time_est en objeto de tiempo\n",
        "df['time_est'] = pd.to_datetime(df['time_est'])\n",
        "#parametros de la gráfica\n",
        "plt.figure(figsize=(10,6))\n",
        "#Recorrido por cada zona\n",
        "for Site in set(df['Site']):\n",
        "    Site_data = df[df['asset_id'] == '70']\n",
        "    plt.bar(Site_data['time_est'],Site_data['Zone'],label=Site)\n",
        "    plt.title('Activo 70 a lo largo de su recorrido por zona')\n",
        "plt.xlabel('Date')\n",
        "plt.ylabel('Cases')\n",
        "plt.legend(title='Zona')\n",
        "plt.grid(True)\n",
        "#plt.xticks(rotation=45)\n",
        "plt.tight_layout()\n",
        "plt.show()"
      ]
    },
    {
      "cell_type": "markdown",
      "metadata": {
        "id": "n7nBbEZ42vvP"
      },
      "source": [
        "### Question 4:\n",
        "\n",
        "* Visualize how the temperatue changes over time along its journey.  Imagine that this would be included in your presentation to the customer. (Non techical audience) (4 pts)\n",
        "\n"
      ]
    },
    {
      "cell_type": "code",
      "execution_count": null,
      "metadata": {
        "id": "rZ6EgZDa3YCv"
      },
      "outputs": [],
      "source": [
        "# YOUR CODE HERE:"
      ]
    },
    {
      "cell_type": "markdown",
      "metadata": {
        "id": "jq6sZbij4n5g"
      },
      "source": [
        "### Question 5:\n",
        "* Visualize the lon lat data on a map to show how the case traveled.  You may incorporate any other additional information to make this more impactful. Imagine that this would be included in your presentation to the customer. (Non techical audience) (5 pts)\n",
        "\n",
        "**Do not worry if this looks like non-sense on a map.  Ex:  The trip may appear to occur over water or in a forest because this is a toy dataset.**"
      ]
    },
    {
      "cell_type": "code",
      "execution_count": null,
      "metadata": {
        "id": "S0NrgqkM5a3m"
      },
      "outputs": [],
      "source": [
        "# YOUR CODE HERE:\n"
      ]
    },
    {
      "cell_type": "markdown",
      "metadata": {
        "id": "V5nvTftA3IrL"
      },
      "source": [
        "# Part 3: Customer Questions\n"
      ]
    },
    {
      "cell_type": "markdown",
      "metadata": {
        "id": "RLBee4li3gZ5"
      },
      "source": [
        "### Question 6:\n",
        "\n",
        "The customer wants to understand the efficieny of ther DC operations.\n",
        "* Based on what you see in the data, (all zones except for STORE), which parts of their operation are most & least \"efficient? (10 pts)"
      ]
    },
    {
      "cell_type": "code",
      "execution_count": null,
      "metadata": {
        "id": "9Ad7Wwa23HzQ"
      },
      "outputs": [],
      "source": [
        "# YOUR CODE HERE"
      ]
    },
    {
      "cell_type": "markdown",
      "metadata": {
        "id": "KxsNLU4u4CT9"
      },
      "source": [
        "YOUR TEXT ANSWER HERE"
      ]
    },
    {
      "cell_type": "markdown",
      "metadata": {
        "id": "BAR8MQnp4KhD"
      },
      "source": [
        "### Question 7:\n",
        "\n",
        "The customer wants to understand the stocking efficiency in stores.\n",
        "* Based on what you see in the data, how quickly did the store unload and stock the merchandise. (5 pts)\n",
        "* How could this be converted in a KPI that a regional manager could track?  (5 pts)"
      ]
    },
    {
      "cell_type": "code",
      "execution_count": null,
      "metadata": {
        "id": "6yLtvhHB4ECp"
      },
      "outputs": [],
      "source": [
        "# YOUR CODE HERE"
      ]
    },
    {
      "cell_type": "markdown",
      "metadata": {
        "id": "FrFLqjpC51rd"
      },
      "source": [
        "YOUR TEXT ANSWER HERE"
      ]
    },
    {
      "cell_type": "markdown",
      "metadata": {
        "id": "YY5cXCAlzX9M"
      },
      "source": [
        "### Question 8:\n",
        "\n",
        "Please explain what you would ask for and what you will do with this data, given that you can talk with the following people (no code needed):\n"
      ]
    },
    {
      "cell_type": "markdown",
      "metadata": {
        "id": "CsSJ9f2fzX9M"
      },
      "source": [
        "YOUR TEXT ANSWER HERE\n",
        "* a. X\n",
        "* b. Y"
      ]
    },
    {
      "cell_type": "markdown",
      "metadata": {
        "id": "U-xbReWjr-_B"
      },
      "source": [
        "## Part 4: Bonus Insights"
      ]
    },
    {
      "cell_type": "markdown",
      "metadata": {
        "id": "XslflGXnsDAF"
      },
      "source": [
        "### Question 8\n",
        "\n",
        "The customer is open to hearing about additional insights you found in the data above and beyond what they asked for.\n",
        "* Based on what you can see in the data, are there any other interesting insights that the customer may want to hear about? (Up to 15 bonus points)\n",
        "\n"
      ]
    },
    {
      "cell_type": "code",
      "execution_count": null,
      "metadata": {
        "id": "CWpCSu8lsCJL"
      },
      "outputs": [],
      "source": [
        "# YOUR CODE HERE\n",
        "# Another metrics that could be interesting would be temperature by time"
      ]
    },
    {
      "cell_type": "markdown",
      "metadata": {
        "id": "EbkD8dTBuuj4"
      },
      "source": [
        "YOUR TEXT ANSWER HERE\n"
      ]
    }
  ],
  "metadata": {
    "colab": {
      "provenance": [],
      "toc_visible": true,
      "include_colab_link": true
    },
    "kernelspec": {
      "display_name": "Python 3.10.5 64-bit",
      "language": "python",
      "name": "python3"
    },
    "language_info": {
      "codemirror_mode": {
        "name": "ipython",
        "version": 3
      },
      "file_extension": ".py",
      "mimetype": "text/x-python",
      "name": "python",
      "nbconvert_exporter": "python",
      "pygments_lexer": "ipython3",
      "version": "3.10.5"
    },
    "vscode": {
      "interpreter": {
        "hash": "aee8b7b246df8f9039afb4144a1f6fd8d2ca17a180786b69acc140d282b71a49"
      }
    }
  },
  "nbformat": 4,
  "nbformat_minor": 0
}